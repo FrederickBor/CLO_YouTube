{
 "cells": [
  {
   "cell_type": "code",
   "execution_count": 189,
   "metadata": {},
   "outputs": [
    {
     "name": "stderr",
     "output_type": "stream",
     "text": [
      "C:\\Users\\Jose Manuel\\Anaconda3\\lib\\site-packages\\sklearn\\externals\\joblib\\__init__.py:15: DeprecationWarning: sklearn.externals.joblib is deprecated in 0.21 and will be removed in 0.23. Please import this functionality directly from joblib, which can be installed with: pip install joblib. If this warning is raised when loading pickled models, you may need to re-serialize those models with scikit-learn 0.21+.\n",
      "  warnings.warn(msg, category=DeprecationWarning)\n"
     ]
    }
   ],
   "source": [
    "import pandas as pd\n",
    "import numpy as np\n",
    "import matplotlib.pyplot as plt\n",
    "from matplotlib.colors import ListedColormap\n",
    "import matplotlib.patches as mpatches\n",
    "import seaborn as sb\n",
    "\n",
    "%matplotlib inline\n",
    "plt.rcParams['figure.figsize'] = (30, 50)\n",
    "plt.style.use('ggplot')\n",
    "\n",
    "from sklearn.model_selection import train_test_split\n",
    "from sklearn import model_selection\n",
    "from sklearn.linear_model import LogisticRegression\n",
    "import pickle\n",
    "from sklearn import preprocessing\n",
    "from sklearn.externals import joblib\n"
   ]
  },
  {
   "cell_type": "code",
   "execution_count": null,
   "metadata": {},
   "outputs": [],
   "source": []
  },
  {
   "cell_type": "code",
   "execution_count": 190,
   "metadata": {
    "scrolled": false
   },
   "outputs": [
    {
     "data": {
      "text/html": [
       "<div>\n",
       "<style scoped>\n",
       "    .dataframe tbody tr th:only-of-type {\n",
       "        vertical-align: middle;\n",
       "    }\n",
       "\n",
       "    .dataframe tbody tr th {\n",
       "        vertical-align: top;\n",
       "    }\n",
       "\n",
       "    .dataframe thead th {\n",
       "        text-align: right;\n",
       "    }\n",
       "</style>\n",
       "<table border=\"1\" class=\"dataframe\">\n",
       "  <thead>\n",
       "    <tr style=\"text-align: right;\">\n",
       "      <th></th>\n",
       "      <th>videoID</th>\n",
       "      <th>Published_at</th>\n",
       "      <th>Channel_title</th>\n",
       "      <th>Tag0</th>\n",
       "      <th>Tag1</th>\n",
       "      <th>Tag2</th>\n",
       "      <th>Tag3</th>\n",
       "      <th>Tag4</th>\n",
       "      <th>Tag5</th>\n",
       "      <th>test</th>\n",
       "    </tr>\n",
       "  </thead>\n",
       "  <tbody>\n",
       "    <tr>\n",
       "      <th>0</th>\n",
       "      <td>5hkPDgf9qJI</td>\n",
       "      <td>2019-12-11T11:00:02.000Z</td>\n",
       "      <td>Thisiz Balti</td>\n",
       "      <td>Balti</td>\n",
       "      <td>denia</td>\n",
       "      <td>hamouda</td>\n",
       "      <td>حمودة</td>\n",
       "      <td>ya lili</td>\n",
       "      <td>دنيا,2019,new,rap,بلطي,rap tunisien,tunisie,tu...</td>\n",
       "      <td>0</td>\n",
       "    </tr>\n",
       "    <tr>\n",
       "      <th>1</th>\n",
       "      <td>lTK-m7178-4</td>\n",
       "      <td>2019-12-11T07:13:01.000Z</td>\n",
       "      <td>مطبخ وتدابير زهرة</td>\n",
       "      <td>0</td>\n",
       "      <td>0</td>\n",
       "      <td>0</td>\n",
       "      <td>0</td>\n",
       "      <td>0</td>\n",
       "      <td>0</td>\n",
       "      <td>0</td>\n",
       "    </tr>\n",
       "    <tr>\n",
       "      <th>2</th>\n",
       "      <td>r_fWTgHB4Jg</td>\n",
       "      <td>2019-12-11T07:52:02.000Z</td>\n",
       "      <td>Dadah Cuisine مطبخ و تدابير دداح</td>\n",
       "      <td>0</td>\n",
       "      <td>0</td>\n",
       "      <td>0</td>\n",
       "      <td>0</td>\n",
       "      <td>0</td>\n",
       "      <td>0</td>\n",
       "      <td>0</td>\n",
       "    </tr>\n",
       "    <tr>\n",
       "      <th>3</th>\n",
       "      <td>ZF_fmBAM60I</td>\n",
       "      <td>2019-12-11T08:23:04.000Z</td>\n",
       "      <td>cuisine loudjain dz</td>\n",
       "      <td>0</td>\n",
       "      <td>0</td>\n",
       "      <td>0</td>\n",
       "      <td>0</td>\n",
       "      <td>0</td>\n",
       "      <td>0</td>\n",
       "      <td>0</td>\n",
       "    </tr>\n",
       "    <tr>\n",
       "      <th>4</th>\n",
       "      <td>oi-XeCez5Hc</td>\n",
       "      <td>2019-12-11T10:00:05.000Z</td>\n",
       "      <td>Saud Brothers</td>\n",
       "      <td>تحدي</td>\n",
       "      <td>تحديات</td>\n",
       "      <td>الكنز</td>\n",
       "      <td>تحدي الكنز</td>\n",
       "      <td>البحث</td>\n",
       "      <td>البحث عن الكنز,تحدي البحث عن الكنز,رحلة,رحلة ا...</td>\n",
       "      <td>0</td>\n",
       "    </tr>\n",
       "  </tbody>\n",
       "</table>\n",
       "</div>"
      ],
      "text/plain": [
       "       videoID              Published_at                     Channel_title  \\\n",
       "0  5hkPDgf9qJI  2019-12-11T11:00:02.000Z                      Thisiz Balti   \n",
       "1  lTK-m7178-4  2019-12-11T07:13:01.000Z                 مطبخ وتدابير زهرة   \n",
       "2  r_fWTgHB4Jg  2019-12-11T07:52:02.000Z  Dadah Cuisine مطبخ و تدابير دداح   \n",
       "3  ZF_fmBAM60I  2019-12-11T08:23:04.000Z               cuisine loudjain dz   \n",
       "4  oi-XeCez5Hc  2019-12-11T10:00:05.000Z                     Saud Brothers   \n",
       "\n",
       "    Tag0    Tag1     Tag2        Tag3     Tag4  \\\n",
       "0  Balti   denia  hamouda       حمودة  ya lili   \n",
       "1      0       0        0           0        0   \n",
       "2      0       0        0           0        0   \n",
       "3      0       0        0           0        0   \n",
       "4   تحدي  تحديات    الكنز  تحدي الكنز    البحث   \n",
       "\n",
       "                                                Tag5  test  \n",
       "0  دنيا,2019,new,rap,بلطي,rap tunisien,tunisie,tu...     0  \n",
       "1                                                  0     0  \n",
       "2                                                  0     0  \n",
       "3                                                  0     0  \n",
       "4  البحث عن الكنز,تحدي البحث عن الكنز,رحلة,رحلة ا...     0  "
      ]
     },
     "execution_count": 190,
     "metadata": {},
     "output_type": "execute_result"
    }
   ],
   "source": [
    "url = f\"C:\\\\Users\\\\Jose Manuel\\\\Desktop\\\\Ingenieria Informatica\\\\BigData\\\\Proyecto\\\\CLO_YouTube\\\\spark\\\\dataStreaming1000rows.csv\"\n",
    "\n",
    "df = pd.read_csv(url,sep=';')\n",
    "# Suponemos que un video triunfa si tiene más visitas que la media de videos en tendencia\n",
    "# por lo que las columnas que tiene relación con las visitas hay que eliminarlas.\n",
    "\n",
    "#df[\"Tags\"]= df[\"Tags\"].str.split(\",\",1)\n",
    "dftags=df.Tags.str.split(\",\",5,expand=True)\n",
    "df = pd.merge(df,dftags, right_index=True, left_index=True)\n",
    "df = df.drop(columns=['Tags'])\n",
    "df = df.rename(columns={0: 'Tag0',1: 'Tag1',2: 'Tag2',3: 'Tag3',4: 'Tag4',5: 'Tag5'})\n",
    "df['test'] = np.where(df['View_count']>df['View_count'].mean(), 1, 0)\n",
    "df = df.drop(columns=['Channel_subscribers','Video_title','Description', 'View_count','Like_count', 'Dislike_count','Like_count', 'Comment_count','Favorite_count'])\n",
    "df = df.replace({float('NaN'):'0'})\n",
    "df.head()\n",
    "#df=df+dftags\n",
    "#dftags = dftags.drop(columns=['5'])"
   ]
  },
  {
   "cell_type": "code",
   "execution_count": 191,
   "metadata": {},
   "outputs": [
    {
     "name": "stdout",
     "output_type": "stream",
     "text": [
      "videoID\n",
      "Published_at\n",
      "Channel_title\n",
      "Tag0\n",
      "Tag1\n",
      "Tag2\n",
      "Tag3\n",
      "Tag4\n",
      "Tag5\n"
     ]
    },
    {
     "data": {
      "text/html": [
       "<div>\n",
       "<style scoped>\n",
       "    .dataframe tbody tr th:only-of-type {\n",
       "        vertical-align: middle;\n",
       "    }\n",
       "\n",
       "    .dataframe tbody tr th {\n",
       "        vertical-align: top;\n",
       "    }\n",
       "\n",
       "    .dataframe thead th {\n",
       "        text-align: right;\n",
       "    }\n",
       "</style>\n",
       "<table border=\"1\" class=\"dataframe\">\n",
       "  <thead>\n",
       "    <tr style=\"text-align: right;\">\n",
       "      <th></th>\n",
       "      <th>videoID</th>\n",
       "      <th>Published_at</th>\n",
       "      <th>Channel_title</th>\n",
       "      <th>Tag0</th>\n",
       "      <th>Tag1</th>\n",
       "      <th>Tag2</th>\n",
       "      <th>Tag3</th>\n",
       "      <th>Tag4</th>\n",
       "      <th>Tag5</th>\n",
       "      <th>test</th>\n",
       "    </tr>\n",
       "  </thead>\n",
       "  <tbody>\n",
       "    <tr>\n",
       "      <th>0</th>\n",
       "      <td>105</td>\n",
       "      <td>925</td>\n",
       "      <td>684</td>\n",
       "      <td>51</td>\n",
       "      <td>321</td>\n",
       "      <td>372</td>\n",
       "      <td>736</td>\n",
       "      <td>597</td>\n",
       "      <td>752</td>\n",
       "      <td>0</td>\n",
       "    </tr>\n",
       "    <tr>\n",
       "      <th>1</th>\n",
       "      <td>741</td>\n",
       "      <td>914</td>\n",
       "      <td>917</td>\n",
       "      <td>3</td>\n",
       "      <td>1</td>\n",
       "      <td>8</td>\n",
       "      <td>5</td>\n",
       "      <td>5</td>\n",
       "      <td>2</td>\n",
       "      <td>0</td>\n",
       "    </tr>\n",
       "    <tr>\n",
       "      <th>2</th>\n",
       "      <td>832</td>\n",
       "      <td>916</td>\n",
       "      <td>162</td>\n",
       "      <td>3</td>\n",
       "      <td>1</td>\n",
       "      <td>8</td>\n",
       "      <td>5</td>\n",
       "      <td>5</td>\n",
       "      <td>2</td>\n",
       "      <td>0</td>\n",
       "    </tr>\n",
       "    <tr>\n",
       "      <th>3</th>\n",
       "      <td>550</td>\n",
       "      <td>917</td>\n",
       "      <td>768</td>\n",
       "      <td>3</td>\n",
       "      <td>1</td>\n",
       "      <td>8</td>\n",
       "      <td>5</td>\n",
       "      <td>5</td>\n",
       "      <td>2</td>\n",
       "      <td>0</td>\n",
       "    </tr>\n",
       "    <tr>\n",
       "      <th>4</th>\n",
       "      <td>787</td>\n",
       "      <td>919</td>\n",
       "      <td>600</td>\n",
       "      <td>777</td>\n",
       "      <td>765</td>\n",
       "      <td>740</td>\n",
       "      <td>724</td>\n",
       "      <td>704</td>\n",
       "      <td>717</td>\n",
       "      <td>0</td>\n",
       "    </tr>\n",
       "  </tbody>\n",
       "</table>\n",
       "</div>"
      ],
      "text/plain": [
       "   videoID  Published_at  Channel_title  Tag0  Tag1  Tag2  Tag3  Tag4  Tag5  \\\n",
       "0      105           925            684    51   321   372   736   597   752   \n",
       "1      741           914            917     3     1     8     5     5     2   \n",
       "2      832           916            162     3     1     8     5     5     2   \n",
       "3      550           917            768     3     1     8     5     5     2   \n",
       "4      787           919            600   777   765   740   724   704   717   \n",
       "\n",
       "   test  \n",
       "0     0  \n",
       "1     0  \n",
       "2     0  \n",
       "3     0  \n",
       "4     0  "
      ]
     },
     "execution_count": 191,
     "metadata": {},
     "output_type": "execute_result"
    }
   ],
   "source": [
    "# Encoding the variable\n",
    "\n",
    "class MultiColumnLabelEncoder:\n",
    "    def __init__(self,columns = None):\n",
    "        self.columns = columns # array of column names to encode\n",
    "\n",
    "    def fit(self,X,y=None):\n",
    "        return self # not relevant here\n",
    "\n",
    "    def transform(self,X):\n",
    "        '''\n",
    "        Transforms columns of X specified in self.columns using\n",
    "        LabelEncoder(). If no columns specified, transforms all\n",
    "        columns in X.\n",
    "        '''\n",
    "        output = X.copy()\n",
    "        if self.columns is not None:\n",
    "            for col in self.columns:\n",
    "                print (col)\n",
    "                output[col] = LabelEncoder().fit_transform(output[col])\n",
    "        else:\n",
    "            for colname,col in output.iteritems():\n",
    "                print (colname)\n",
    "                output[colname] = LabelEncoder().fit_transform(col)\n",
    "        return output\n",
    "\n",
    "    def fit_transform(self,X,y=None):\n",
    "        return self.fit(X,y).transform(X)\n",
    "    \n",
    "df_encoded = MultiColumnLabelEncoder(columns=['videoID','Published_at','Channel_title','Tag0','Tag1','Tag2','Tag3','Tag4','Tag5']).fit_transform(df)\n",
    "df_encoded.head()"
   ]
  },
  {
   "cell_type": "code",
   "execution_count": 192,
   "metadata": {},
   "outputs": [],
   "source": [
    "array = df_encoded.values\n",
    "X = array[:,0:9]\n",
    "Y = array[:,9]\n",
    "test_size = 0.33\n",
    "seed = 7\n",
    "X_train, X_test, Y_train, Y_test = model_selection.train_test_split(X, Y, test_size=test_size, random_state=seed)"
   ]
  },
  {
   "cell_type": "code",
   "execution_count": 193,
   "metadata": {},
   "outputs": [
    {
     "name": "stderr",
     "output_type": "stream",
     "text": [
      "C:\\Users\\Jose Manuel\\Anaconda3\\lib\\site-packages\\sklearn\\linear_model\\logistic.py:432: FutureWarning: Default solver will be changed to 'lbfgs' in 0.22. Specify a solver to silence this warning.\n",
      "  FutureWarning)\n"
     ]
    },
    {
     "data": {
      "text/plain": [
       "0.8027777777777778"
      ]
     },
     "execution_count": 193,
     "metadata": {},
     "output_type": "execute_result"
    }
   ],
   "source": [
    "# Fit the model on training set\n",
    "model = LogisticRegression()\n",
    "model.fit(X_train, Y_train)\n",
    "model.score(X_test, Y_test)"
   ]
  },
  {
   "cell_type": "code",
   "execution_count": 194,
   "metadata": {},
   "outputs": [
    {
     "data": {
      "text/plain": [
       "['ml_model.sav']"
      ]
     },
     "execution_count": 194,
     "metadata": {},
     "output_type": "execute_result"
    }
   ],
   "source": [
    "# save the model to disk\n",
    "filename = 'ml_model.sav'\n",
    "joblib.dump(model, filename)\n",
    " \n",
    "# some time later...\n",
    " \n"
   ]
  },
  {
   "cell_type": "code",
   "execution_count": 195,
   "metadata": {},
   "outputs": [
    {
     "name": "stdout",
     "output_type": "stream",
     "text": [
      "0.8027777777777778\n"
     ]
    }
   ],
   "source": [
    "# load the model from disk\n",
    "loaded_model = joblib.load(filename)\n",
    "result = loaded_model.score(X_test, Y_test)\n",
    "print(result)"
   ]
  },
  {
   "cell_type": "code",
   "execution_count": null,
   "metadata": {},
   "outputs": [],
   "source": []
  }
 ],
 "metadata": {
  "kernelspec": {
   "display_name": "Python 3",
   "language": "python",
   "name": "python3"
  },
  "language_info": {
   "codemirror_mode": {
    "name": "ipython",
    "version": 3
   },
   "file_extension": ".py",
   "mimetype": "text/x-python",
   "name": "python",
   "nbconvert_exporter": "python",
   "pygments_lexer": "ipython3",
   "version": "3.7.3"
  }
 },
 "nbformat": 4,
 "nbformat_minor": 2
}
